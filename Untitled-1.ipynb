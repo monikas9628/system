{
 "cells": [
  {
   "cell_type": "code",
   "execution_count": 3,
   "metadata": {},
   "outputs": [],
   "source": [
    "from fastapi import FastAPI\n",
    "\n",
    "from fastapi import WebSocket\n",
    "from fastapi_socketio import SocketManager\n",
    "import sqlalchemy\n",
    "from sqlalchemy.orm import Session\n",
    "from pydantic import BaseModel"
   ]
  },
  {
   "cell_type": "code",
   "execution_count": null,
   "metadata": {},
   "outputs": [],
   "source": [
    "import app\n",
    "from app.models.user import Base\n",
    "from app.db.database import SessionLocal, engine\n",
    "app = FastAPI()"
   ]
  },
  {
   "cell_type": "code",
   "execution_count": null,
   "metadata": {},
   "outputs": [],
   "source": [
    "Base.metadata.create_all(bind=engine)\n",
    "@app.get(\"/\")\n",
    "def index():\n",
    "    return {\"Hello everyone!\"}"
   ]
  },
  {
   "cell_type": "code",
   "execution_count": 17,
   "metadata": {},
   "outputs": [
    {
     "ename": "ImportError",
     "evalue": "attempted relative import with no known parent package",
     "output_type": "error",
     "traceback": [
      "\u001b[1;31m---------------------------------------------------------------------------\u001b[0m",
      "\u001b[1;31mImportError\u001b[0m                               Traceback (most recent call last)",
      "\u001b[1;32mc:\\Users\\swastik comunshtion\\.vscode\\extensions\\ms-python.python-2022.10.0\\pythonFiles\\Untitled-1.ipynb Cell 9'\u001b[0m in \u001b[0;36m<cell line: 3>\u001b[1;34m()\u001b[0m\n\u001b[0;32m      <a href='vscode-notebook-cell:/c%3A/Users/swastik%20comunshtion/.vscode/extensions/ms-python.python-2022.10.0/pythonFiles/Untitled-1.ipynb#ch0000011?line=0'>1</a>\u001b[0m \u001b[39m## User model\u001b[39;00m\n\u001b[0;32m      <a href='vscode-notebook-cell:/c%3A/Users/swastik%20comunshtion/.vscode/extensions/ms-python.python-2022.10.0/pythonFiles/Untitled-1.ipynb#ch0000011?line=1'>2</a>\u001b[0m \u001b[39mfrom\u001b[39;00m \u001b[39msqlalchemy\u001b[39;00m \u001b[39mimport\u001b[39;00m Column , Integer, String\n\u001b[1;32m----> <a href='vscode-notebook-cell:/c%3A/Users/swastik%20comunshtion/.vscode/extensions/ms-python.python-2022.10.0/pythonFiles/Untitled-1.ipynb#ch0000011?line=2'>3</a>\u001b[0m \u001b[39mfrom\u001b[39;00m \u001b[39m.\u001b[39;00m\u001b[39mdatabase\u001b[39;00m \u001b[39mimport\u001b[39;00m Base\n",
      "\u001b[1;31mImportError\u001b[0m: attempted relative import with no known parent package"
     ]
    }
   ],
   "source": [
    "## User model\n",
    "from sqlalchemy import Column , Integer, String\n",
    "from .database import Base\n"
   ]
  },
  {
   "cell_type": "code",
   "execution_count": null,
   "metadata": {},
   "outputs": [
    {
     "ename": "NameError",
     "evalue": "name 'Base' is not defined",
     "output_type": "error",
     "traceback": [
      "\u001b[1;31m---------------------------------------------------------------------------\u001b[0m\n",
      "\u001b[1;31mNameError\u001b[0m                                 Traceback (most recent call last)\n",
      "\u001b[1;32mc:\\Users\\swastik comunshtion\\.vscode\\extensions\\ms-python.python-2022.10.0\\pythonFiles\\Untitled-1.ipynb Cell 10'\u001b[0m in \u001b[0;36m<cell line: 1>\u001b[1;34m()\u001b[0m\n",
      "\u001b[1;32m----> <a href='vscode-notebook-cell:/c%3A/Users/swastik%20comunshtion/.vscode/extensions/ms-python.python-2022.10.0/pythonFiles/Untitled-1.ipynb#ch0000012?line=0'>1</a>\u001b[0m \u001b[39mclass\u001b[39;00m \u001b[39mUser\u001b[39;00m(Base):\n",
      "\u001b[0;32m      <a href='vscode-notebook-cell:/c%3A/Users/swastik%20comunshtion/.vscode/extensions/ms-python.python-2022.10.0/pythonFiles/Untitled-1.ipynb#ch0000012?line=1'>2</a>\u001b[0m     __tablename__ \u001b[39m=\u001b[39m \u001b[39m\"\u001b[39m\u001b[39musers\u001b[39m\u001b[39m\"\u001b[39m\n",
      "\u001b[0;32m      <a href='vscode-notebook-cell:/c%3A/Users/swastik%20comunshtion/.vscode/extensions/ms-python.python-2022.10.0/pythonFiles/Untitled-1.ipynb#ch0000012?line=2'>3</a>\u001b[0m     \u001b[39mid\u001b[39m \u001b[39m=\u001b[39m Column(Integer, primary_key\u001b[39m=\u001b[39m\u001b[39mTrue\u001b[39;00m, index\u001b[39m=\u001b[39m\u001b[39mTrue\u001b[39;00m)\n",
      "\n",
      "\u001b[1;31mNameError\u001b[0m: name 'Base' is not defined"
     ]
    }
   ],
   "source": [
    "class User(Base):\n",
    "    __tablename__ = \"users\"\n",
    "    id = Column(Integer, primary_key=True, index=True)\n",
    "    username = Column(String(20), unique=True, nullable=False)\n",
    "    first_name = Column(String(50), nullable=False)\n",
    "    last_name = Column(String(50), nullable=False)\n",
    "    password = Column(String)\n",
    "\n",
    "    def __repr__(self):\n",
    "        return f\"id:{self.id}, username:{self.username}, \" \\\n",
    "               f\"name:{self.first_name}, surname:{self.last_name}\"\n"
   ]
  },
  {
   "cell_type": "code",
   "execution_count": 15,
   "metadata": {},
   "outputs": [],
   "source": [
    "from sqlalchemy import create_engine\n",
    "from sqlalchemy.ext.declarative import declarative_base\n",
    "from sqlalchemy.orm import sessionmaker\n"
   ]
  },
  {
   "cell_type": "code",
   "execution_count": 16,
   "metadata": {},
   "outputs": [],
   "source": [
    "SQLALCHEMY_DATABASE_URL = \"sqlite:///./database.db\"\n",
    "\n",
    "engine = create_engine(\n",
    "    SQLALCHEMY_DATABASE_URL,\n",
    "    connect_args={\"check_same_thread\": False},\n",
    ")\n",
    "\n",
    "SessionLocal = sessionmaker(autocommit=False, autoflush=False, bind=engine)\n",
    "\n",
    "Base = declarative_base()"
   ]
  },
  {
   "cell_type": "code",
   "execution_count": null,
   "metadata": {},
   "outputs": [],
   "source": []
  },
  {
   "cell_type": "code",
   "execution_count": null,
   "metadata": {},
   "outputs": [],
   "source": []
  },
  {
   "cell_type": "code",
   "execution_count": null,
   "metadata": {},
   "outputs": [],
   "source": []
  },
  {
   "cell_type": "code",
   "execution_count": null,
   "metadata": {},
   "outputs": [],
   "source": []
  },
  {
   "cell_type": "code",
   "execution_count": null,
   "metadata": {},
   "outputs": [],
   "source": []
  }
 ],
 "metadata": {
  "kernelspec": {
   "display_name": "Python 3.9.12 ('base')",
   "language": "python",
   "name": "python3"
  },
  "language_info": {
   "codemirror_mode": {
    "name": "ipython",
    "version": 3
   },
   "file_extension": ".py",
   "mimetype": "text/x-python",
   "name": "python",
   "nbconvert_exporter": "python",
   "pygments_lexer": "ipython3",
   "version": "3.9.12"
  },
  "orig_nbformat": 4,
  "vscode": {
   "interpreter": {
    "hash": "ce85fa8fa071a688734216654fba50c6aff37cc184513761df9ce1d71fc54644"
   }
  }
 },
 "nbformat": 4,
 "nbformat_minor": 2
}
